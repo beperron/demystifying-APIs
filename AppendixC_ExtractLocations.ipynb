{
 "cells": [
  {
   "cell_type": "markdown",
   "metadata": {},
   "source": [
    "# Appendix C: Extract locations from scientific abstracts"
   ]
  },
  {
   "cell_type": "code",
   "execution_count": null,
   "metadata": {},
   "outputs": [],
   "source": [
    "import requests\n",
    "import pandas as pd\n",
    "\n",
    "# Read the Excel file and load the addresses into a DataFrame\n",
    "df = pd.read_excel('Addresses.xlsx')\n",
    "\n",
    "# Initialize lists to store latitude and longitude results\n",
    "latitudes = []\n",
    "longitudes = []\n",
    "\n",
    "# Loop through each address in the DataFrame\n",
    "for address in df['Addresses']:\n",
    "   # Define the API endpoint and parameters\n",
    "   url = \"https://geocoding.geo.census.gov/geocoder/locations/onelineaddress\"\n",
    "   params = {\n",
    "       'address': address,\n",
    "       'benchmark': 'Public_AR_Current',\n",
    "       'format': 'json'\n",
    "   }\n",
    "\n",
    "   # Make the request to the API\n",
    "   response = requests.get(url, params=params)\n",
    "\n",
    "   # Parse the response\n",
    "   data = response.json()\n",
    "\n",
    "   # Extract latitude and longitude, if the address is matched\n",
    "   if data['result']['addressMatches']:\n",
    "       coordinates = data['result']['addressMatches'][0]['coordinates']\n",
    "       latitudes.append(coordinates['y'])\n",
    "       longitudes.append(coordinates['x'])\n",
    "   else:\n",
    "       # If no match is found, append None values\n",
    "       latitudes.append(None)\n",
    "       longitudes.append(None)\n",
    "\n",
    "# Add the latitude and longitude lists as new columns to the DataFrame\n",
    "df['Latitude'] = latitudes\n",
    "df['Longitude'] = longitudes\n",
    "\n",
    "# Save the updated DataFrame to a new Excel file\n",
    "df.to_excel('Addresses_with_Coordinates.xlsx', index=False)"
   ]
  }
 ],
 "metadata": {
  "language_info": {
   "name": "python"
  }
 },
 "nbformat": 4,
 "nbformat_minor": 2
}
