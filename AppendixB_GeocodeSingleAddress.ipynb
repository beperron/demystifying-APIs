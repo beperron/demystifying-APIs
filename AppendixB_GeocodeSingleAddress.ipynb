{
 "cells": [
  {
   "cell_type": "markdown",
   "metadata": {},
   "source": []
  },
  {
   "cell_type": "code",
   "execution_count": null,
   "metadata": {},
   "outputs": [],
   "source": [
    "import requests\n",
    "\n",
    "# Define the API endpoint and parameters\n",
    "url = \"https://geocoding.geo.census.gov/geocoder/locations/onelineaddress\"\n",
    "params = {\n",
    "    'address': \"1080 South University Avenue, Ann Arbor, MI 48103\",\n",
    "    'benchmark': 'Public_AR_Current',\n",
    "    'format': 'json'\n",
    "}\n",
    "\n",
    "# Make the request to the API\n",
    "response = requests.get(url, params=params)\n",
    "\n",
    "# Parse the response\n",
    "data = response.json()\n",
    "\n",
    "# Extract latitude and longitude\n",
    "coordinates = data['result']['addressMatches'][0]['coordinates']\n",
    "latitude = coordinates['y']\n",
    "longitude = coordinates['x']\n",
    "\n",
    "# Output latitude and longitude\n",
    "print(f\"Latitude: {latitude}, Longitude: {longitude}\")"
   ]
  }
 ],
 "metadata": {
  "language_info": {
   "name": "python"
  }
 },
 "nbformat": 4,
 "nbformat_minor": 2
}
