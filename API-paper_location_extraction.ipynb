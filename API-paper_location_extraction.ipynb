{
 "cells": [
  {
   "cell_type": "markdown",
   "metadata": {},
   "source": [
    "# Demystifying APIs"
   ]
  },
  {
   "cell_type": "code",
   "execution_count": 20,
   "metadata": {},
   "outputs": [],
   "source": [
    "import pandas as pd  \n",
    "from openai import OpenAI  \n",
    "from dotenv import load_dotenv\n",
    "import os \n",
    "from groq import Groq"
   ]
  },
  {
   "cell_type": "code",
   "execution_count": 21,
   "metadata": {},
   "outputs": [],
   "source": [
    "# Load the Excel file into a DataFrame\n",
    "os.chdir(r'C:\\Users\\beperron\\Documents\\Projects\\demystifying-APIs')\n",
    "df = pd.read_excel(r'LBC_MetaData.xlsx').sample(50, random_state=20)"
   ]
  },
  {
   "cell_type": "code",
   "execution_count": 22,
   "metadata": {},
   "outputs": [],
   "source": [
    "#-----------------------------#\n",
    "#     ChatGPT API             #\n",
    "#-----------------------------#\n",
    "\n",
    "load_dotenv()\n",
    "\n",
    "base_url = \"https://api.openai.com/v1/chat/completions\"\n",
    "model = \"gpt-4o\"\n",
    "openai_api_key = os.getenv(\"OPENAI_API_KEY\")\n",
    "client = OpenAI()"
   ]
  },
  {
   "cell_type": "raw",
   "metadata": {
    "vscode": {
     "languageId": "raw"
    }
   },
   "source": [
    "#-----------------------------#\n",
    "#     DeepSeek API            #\n",
    "#-----------------------------#\n",
    "\n",
    "load_dotenv()\n",
    "model = \"deepseek-chat\"\n",
    "openai_api_key = os.getenv(\"DEEPSEEK_API_KEY\")\n",
    "client = OpenAI(api_key=openai_api_key, base_url=\"https://api.deepseek.com\")"
   ]
  },
  {
   "cell_type": "raw",
   "metadata": {
    "vscode": {
     "languageId": "raw"
    }
   },
   "source": [
    "#-----------------------------#\n",
    "#     Groq API                #\n",
    "#-----------------------------#\n",
    "\n",
    "load_dotenv()\n",
    "model = \"llama3-8b-8192\"\n",
    "openai_api_key = os.getenv(\"GROQ_API_KEY\")\n",
    "client = Groq(api_key=openai_api_key)"
   ]
  },
  {
   "cell_type": "code",
   "execution_count": 23,
   "metadata": {},
   "outputs": [],
   "source": [
    "system_extraction_prompt = \"You are a helpful assistant with expertise in social work research and Chinese geography.\"\n",
    "\n",
    "user_extraction_prompt = \"\"\"Carefully read the following scientific abstract.\n",
    "Identify and extract any Chinese locations\n",
    "that are first-level administrative divisions under China's central government in mainland China.\n",
    "These include:\n",
    "\n",
    "Provinces,\n",
    "Municipalities directly under the central government,\n",
    "Autonomous regions.\n",
    "\n",
    "If a city or county is mentioned instead of a province or autonomous region,\n",
    "return corresponding province, municipality, or autonomous region in English.\n",
    "For example, if '广州市' is mentioned, return 'Guangdong Province'. Only extract locations at this administrative level.\n",
    "If multiple locations are present in a single abstract,\n",
    "separate each location with a semicolon.\n",
    "Return NONE if no specific province, city, or administrative region is mentioned.\n",
    "For unspecified mentions (e.g., \"10 provinces\", \"several regions\",\"southwestern China\",\"western China\"), return 'NONE'.\n",
    "Do not make any assumptions or inferences about unspecified locations.\n",
    "Return NONE if no specific name mentioned, or need guess or infer any locations based on context or general knowledge.\"\"\"\n"
   ]
  },
  {
   "cell_type": "code",
   "execution_count": 24,
   "metadata": {},
   "outputs": [],
   "source": [
    "# Define a function to extract country names from the text using GPT-4o via OpenAI API\n",
    "def extract_location(abstract):\n",
    "           \n",
    "    response = client.chat.completions.create(\n",
    "        model=model,  # Specify the model to use\n",
    "        messages=[\n",
    "            {\n",
    "                \"role\": \"system\",\n",
    "                \"content\": system_extraction_prompt\n",
    "            },\n",
    "            {\n",
    "                \"role\": \"user\",\n",
    "                \"content\": user_extraction_prompt + abstract\n",
    "                \n",
    "            }\n",
    "        ],\n",
    "        temperature=0,  # Set response randomness (0 means deterministic responses)\n",
    "        max_tokens=2500,  # Set the maximum token length of the response\n",
    "        top_p=1,  # Use nucleus sampling (1 means only the most likely tokens are considered)\n",
    "        frequency_penalty=0,  # No penalty for frequent tokens\n",
    "        presence_penalty=0  # No penalty for new topic introduction\n",
    "    )\n",
    "    # Extract country names from the response\n",
    "    location = response.choices[0].message.content.strip()\n",
    "    return location\n",
    "\n",
    "# Apply the function to the 'abstract' column and store the API response in a new column 'Location'\n",
    "df['Location'] = df['Abstract'].apply(extract_location)"
   ]
  },
  {
   "cell_type": "code",
   "execution_count": 25,
   "metadata": {},
   "outputs": [
    {
     "name": "stdout",
     "output_type": "stream",
     "text": [
      "117                       Anhui Province\n",
      "80                                  NONE\n",
      "198                                 NONE\n",
      "44                                  NONE\n",
      "108               Chongqing Municipality\n",
      "13                      Guangxi Province\n",
      "62                    Guangdong Province\n",
      "188                                 NONE\n",
      "28                                  NONE\n",
      "90                                  NONE\n",
      "139                                 NONE\n",
      "132                                 NONE\n",
      "111                                 NONE\n",
      "20                                  NONE\n",
      "197                                 NONE\n",
      "169                                 NONE\n",
      "168                                 NONE\n",
      "34                      Shaanxi Province\n",
      "84                        Hebei Province\n",
      "135                                 NONE\n",
      "72                                  NONE\n",
      "63                                  NONE\n",
      "98                                  NONE\n",
      "143                                 NONE\n",
      "196                                 NONE\n",
      "100                       Hunan Province\n",
      "167                                 NONE\n",
      "59                                  NONE\n",
      "77                        Henan Province\n",
      "5                                   NONE\n",
      "151                                 NONE\n",
      "193                                 NONE\n",
      "97                                  NONE\n",
      "46                        Hunan Province\n",
      "178                       Hunan Province\n",
      "184                                 NONE\n",
      "86                      Sichuan Province\n",
      "150               Chongqing Municipality\n",
      "177                                 NONE\n",
      "107                                 NONE\n",
      "67                        Hunan Province\n",
      "179    Hunan Province; Zhejiang Province\n",
      "153                                 NONE\n",
      "113                                 NONE\n",
      "134                                 NONE\n",
      "128                       Anhui Province\n",
      "21                                  NONE\n",
      "47                                  NONE\n",
      "109                                 NONE\n",
      "175                                 NONE\n",
      "Name: Location, dtype: object\n"
     ]
    }
   ],
   "source": [
    "# Print all Locations that are not None\n",
    "#df.to_excel('LBC_MetaData_Locations_Extracted.xlsx', index=False)\n",
    "\n",
    "\n",
    "print(df['Location'])"
   ]
  },
  {
   "cell_type": "code",
   "execution_count": null,
   "metadata": {},
   "outputs": [],
   "source": []
  }
 ],
 "metadata": {
  "kernelspec": {
   "display_name": "AI-Pipeline",
   "language": "python",
   "name": "python3"
  },
  "language_info": {
   "codemirror_mode": {
    "name": "ipython",
    "version": 3
   },
   "file_extension": ".py",
   "mimetype": "text/x-python",
   "name": "python",
   "nbconvert_exporter": "python",
   "pygments_lexer": "ipython3",
   "version": "3.11.9"
  }
 },
 "nbformat": 4,
 "nbformat_minor": 2
}
