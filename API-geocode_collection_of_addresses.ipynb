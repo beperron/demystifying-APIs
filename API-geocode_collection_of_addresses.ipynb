{
 "cells": [
  {
   "cell_type": "markdown",
   "metadata": {},
   "source": [
    "**Appendix C: API Request to Geocode a Collection of Addresses**"
   ]
  },
  {
   "cell_type": "code",
   "execution_count": 2,
   "metadata": {},
   "outputs": [],
   "source": [
    "import requests\n",
    "import pandas as pd"
   ]
  },
  {
   "cell_type": "code",
   "execution_count": 20,
   "metadata": {},
   "outputs": [],
   "source": [
    "# Read the Excel file and load the addresses into a DataFrame\n",
    "df = pd.read_excel('Addresses.xlsx')"
   ]
  },
  {
   "cell_type": "code",
   "execution_count": 21,
   "metadata": {},
   "outputs": [],
   "source": [
    "# Initialize lists to store latitude and longitude results\n",
    "latitudes = []\n",
    "longitudes = []"
   ]
  },
  {
   "cell_type": "code",
   "execution_count": 22,
   "metadata": {},
   "outputs": [],
   "source": [
    "# Loop through each address in the DataFrame\n",
    "for address in df['Addresses']:\n",
    "    # Define the API endpoint and parameters\n",
    "    url = \"https://geocoding.geo.census.gov/geocoder/locations/onelineaddress\"\n",
    "    params = {\n",
    "        'address': address,\n",
    "        'benchmark': 'Public_AR_Current',\n",
    "        'format': 'json'\n",
    "    }\n",
    "    # Make the request to the API\n",
    "    response = requests.get(url, params=params)\n",
    "    # Parse the response\n",
    "    data = response.json()\n",
    "    # Extract latitude and longitude, if the address is matched\n",
    "    if data['result']['addressMatches']:\n",
    "        coordinates = data['result']['addressMatches'][0]['coordinates']\n",
    "        latitudes.append(coordinates['y'])\n",
    "        longitudes.append(coordinates['x'])\n",
    "    else:\n",
    "        # If no match is found, append None values\n",
    "        latitudes.append(None)\n",
    "        longitudes.append(None)"
   ]
  },
  {
   "cell_type": "code",
   "execution_count": 23,
   "metadata": {},
   "outputs": [],
   "source": [
    "# Add the latitude and longitude lists as new columns to the DataFrame\n",
    "df['Latitude'] = latitudes\n",
    "df['Longitude'] = longitudes"
   ]
  },
  {
   "cell_type": "code",
   "execution_count": 24,
   "metadata": {},
   "outputs": [],
   "source": [
    "# Save the updated DataFrame to a new Excel file\n",
    "df.to_excel('Addresses_with_Coordinates.xlsx', index=False)"
   ]
  }
 ],
 "metadata": {
  "kernelspec": {
   "display_name": "base",
   "language": "python",
   "name": "python3"
  },
  "language_info": {
   "codemirror_mode": {
    "name": "ipython",
    "version": 3
   },
   "file_extension": ".py",
   "mimetype": "text/x-python",
   "name": "python",
   "nbconvert_exporter": "python",
   "pygments_lexer": "ipython3",
   "version": "3.12.3"
  }
 },
 "nbformat": 4,
 "nbformat_minor": 2
}
