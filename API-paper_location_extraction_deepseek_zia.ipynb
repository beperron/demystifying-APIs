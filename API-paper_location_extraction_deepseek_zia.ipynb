{
 "cells": [
  {
   "cell_type": "markdown",
   "metadata": {},
   "source": [
    "# Demystifying APIs"
   ]
  },
  {
   "cell_type": "code",
   "execution_count": 1,
   "metadata": {},
   "outputs": [],
   "source": [
    "import pandas as pd  \n",
    "from openai import OpenAI  \n",
    "from dotenv import load_dotenv\n",
    "import os "
   ]
  },
  {
   "cell_type": "code",
   "execution_count": 2,
   "metadata": {},
   "outputs": [],
   "source": [
    "# Load the Excel file into a DataFrame\n",
    "#os.chdir(r'C:\\Users\\beperron\\Desktop')\n",
    "os.chdir(r'C:\\Users\\Zixua\\OneDrive\\Data Projects 2024\\api_paper')\n",
    "df = pd.read_excel(r'LBC_MetaData.xlsx')"
   ]
  },
  {
   "cell_type": "code",
   "execution_count": 3,
   "metadata": {},
   "outputs": [],
   "source": [
    "# Load the .env file\n",
    "load_dotenv()\n",
    "\n",
    "# Access the API key\n",
    "#openai_api_key = os.getenv(\"OPENAI_API_KEY\")\n",
    "deepseek_api_key = os.getenv(\"DEEPSEEK_API_KEY\")"
   ]
  },
  {
   "cell_type": "code",
   "execution_count": 12,
   "metadata": {},
   "outputs": [],
   "source": [
    "# This is for Initializing OpenAI client for GPT, please use the next block of code for DeepSeek.\n",
    "'''\n",
    "client = OpenAI()\n",
    "base_url = \"https://api.openai.com/v1/chat/completions\"\n",
    "'''"
   ]
  },
  {
   "cell_type": "code",
   "execution_count": 4,
   "metadata": {},
   "outputs": [],
   "source": [
    "# Initialize OpenAI client\n",
    "client = OpenAI(api_key=deepseek_api_key, base_url = \"https://api.deepseek.com\")"
   ]
  },
  {
   "cell_type": "code",
   "execution_count": 5,
   "metadata": {},
   "outputs": [],
   "source": [
    "system_extraction_prompt = \"You are a helpful assistant with expertise in social work research.\"\n",
    "\n",
    "user_extraction_prompt = \"\"\"Carefully read the following scientific abstract. You must identify \n",
    "                            any Chinese province, city, and special administrative region noted \n",
    "                            in the abstract. If multiple locations are present in a single abstract, \n",
    "                            separate each location with a semicolon. Return NONE if no specific \n",
    "                            province, city, or administrative region is mentioned. You must \n",
    "                            perform this task accurately. Do not make up or guess any information.\"\"\"\n"
   ]
  },
  {
   "cell_type": "code",
   "execution_count": 6,
   "metadata": {},
   "outputs": [],
   "source": [
    "# Define a function to extract country names from the text using GPT-4o via OpenAI API\n",
    "def extract_location(abstract):\n",
    "           \n",
    "    response = client.chat.completions.create(\n",
    "        #model=\"gpt-4o\",  # Specify the model to use\n",
    "        model=\"deepseek-chat\",\n",
    "        messages=[\n",
    "            {\n",
    "                \"role\": \"system\",\n",
    "                \"content\": system_extraction_prompt\n",
    "            },\n",
    "            {\n",
    "                \"role\": \"user\",\n",
    "                \"content\": user_extraction_prompt + abstract\n",
    "                \n",
    "            }\n",
    "        ],\n",
    "        temperature=0,  # Set response randomness (0 means deterministic responses)\n",
    "        max_tokens=2500,  # Set the maximum token length of the response\n",
    "        top_p=1,  # Use nucleus sampling (1 means only the most likely tokens are considered)\n",
    "        frequency_penalty=0,  # No penalty for frequent tokens\n",
    "        presence_penalty=0  # No penalty for new topic introduction\n",
    "    )\n",
    "    # Extract country names from the response\n",
    "    location = response.choices[0].message.content.strip()\n",
    "    return location\n",
    "\n",
    "# Apply the function to the 'abstract' column and store the API response in a new column 'Location'\n",
    "df['Location'] = df['Abstract'].apply(extract_location)"
   ]
  },
  {
   "cell_type": "code",
   "execution_count": 7,
   "metadata": {},
   "outputs": [
    {
     "name": "stdout",
     "output_type": "stream",
     "text": [
      "0                    NONE\n",
      "1                    NONE\n",
      "2                    NONE\n",
      "3                    NONE\n",
      "4      Guangdong Province\n",
      "              ...        \n",
      "196                  NONE\n",
      "197                  NONE\n",
      "198                  NONE\n",
      "199                  NONE\n",
      "200                  NONE\n",
      "Name: Location, Length: 201, dtype: object\n"
     ]
    }
   ],
   "source": [
    "# Print all Locations that are not None\n",
    "#df.to_excel('LBC_MetaData_Locations_Extracted.xlsx', index=False)\n",
    "\n",
    "print(df['Location'])"
   ]
  },
  {
   "cell_type": "code",
   "execution_count": null,
   "metadata": {},
   "outputs": [],
   "source": []
  }
 ],
 "metadata": {
  "kernelspec": {
   "display_name": "API_paper",
   "language": "python",
   "name": "research_env"
  },
  "language_info": {
   "codemirror_mode": {
    "name": "ipython",
    "version": 3
   },
   "file_extension": ".py",
   "mimetype": "text/x-python",
   "name": "python",
   "nbconvert_exporter": "python",
   "pygments_lexer": "ipython3",
   "version": "3.10.11"
  }
 },
 "nbformat": 4,
 "nbformat_minor": 2
}
